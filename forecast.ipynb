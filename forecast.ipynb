{
 "cells": [
  {
   "cell_type": "code",
   "execution_count": 285,
   "metadata": {},
   "outputs": [
    {
     "name": "stderr",
     "output_type": "stream",
     "text": [
      "/usr/local/lib/python3.7/site-packages/ipykernel_launcher.py:34: YAMLLoadWarning: calling yaml.load() without Loader=... is deprecated, as the default Loader is unsafe. Please read https://msg.pyyaml.org/load for full details.\n",
      "/usr/local/lib/python3.7/site-packages/ipykernel_launcher.py:41: FutureWarning: Creating a DatetimeIndex by passing range endpoints is deprecated.  Use `pandas.date_range` instead.\n"
     ]
    }
   ],
   "source": [
    "from rpy2 import robjects\n",
    "import matplotlib.pyplot as plt\n",
    "from matplotlib.patches import Rectangle\n",
    "import matplotlib.dates as mdates\n",
    "import multiprocessing as mp\n",
    "import pandas as pd\n",
    "import numpy as np\n",
    "import datetime\n",
    "import yaml\n",
    "import os\n",
    "# Convert pandas dataframe\n",
    "from rpy2.robjects import pandas2ri\n",
    "pandas2ri.activate()\n",
    "# Suppress R warnings in python:\n",
    "import warnings\n",
    "from rpy2.rinterface import RRuntimeWarning\n",
    "warnings.filterwarnings(\"ignore\", category=RRuntimeWarning)\n",
    "\n",
    "output_dir = 'output_16-04-init/'\n",
    "        \n",
    "dept_avail = os.listdir(output_dir)\n",
    "\n",
    "rainfall = pd.read_csv('haiti-data/fromAzman/rainfall.csv', index_col = 0, parse_dates = True)\n",
    "cases    = pd.read_csv('haiti-data/fromAzman/cases_corrected.csv', index_col=0, parse_dates =True)\n",
    "rain     = pd.read_csv('haiti-data/proj/rainfall.csv', index_col = 0, parse_dates = True)\n",
    "\n",
    "compartments = ['S', 'I', 'A', 'RA1', 'RA2', 'RA3', 'RI1', 'RI2', 'RI3', 'W', 'B', 'cases', 'C',\n",
    "                 \"VSd\", \"VRI1d\", \"VRI2d\", \"VRI3d\", \"VRA1d\", \"VRA2d\", \"VRA3d\",\n",
    "                 \"VSdd\", \"VRI1dd\", \"VRI2dd\", \"VRI3dd\", \"VRA1dd\", \"VRA2dd\", \"VRA3dd\",\n",
    "                 \"VSd_alt\", \"VRI1d_alt\", \"VRI2d_alt\", \"VRI3d_alt\", \"VRA1d_alt\", \"VRA2d_alt\", \"VRA3d_alt\",\n",
    "                 \"VSdd_alt\", \"VRI1dd_alt\", \"VRI2dd_alt\", \"VRI3dd_alt\", \"VRA1dd_alt\", \"VRA2dd_alt\", \"VRA3dd_alt\"]\n",
    "\n",
    "stream = open('haiti-data/input_parameters.yaml', 'r')\n",
    "input_parameters = yaml.load(stream)\n",
    "\n",
    "dept_name = [list(pop.keys())[0] for pop in input_parameters['population']]\n",
    "\n",
    "t_start = input_parameters['t_start']\n",
    "t_for = datetime.date(2029,12,20)\n",
    "\n",
    "index = pd.DatetimeIndex(start =  t_start,  end = t_for, freq = 'W-SAT')\n",
    "\n",
    "def make_genuine_mobility_file():\n",
    "    covar_init = pd.concat([cases[t_start:]]*6, ignore_index=True)[0:-506]\n",
    "    covar_init.index = pd.DatetimeIndex(start =  datetime.date(2010,10,23), \n",
    "                                      end = t_for, freq = 'W-SAT')\n",
    "    covar_init.to_csv('covar_mob.csv', index_label='date')\n",
    "    return covar_init\n",
    "\n",
    "class VaccinationScenario():\n",
    "    def __init__(self, course_year, percent_completely_unvaccinated, percent_onedose, percent_twodoses, ve, not_dep = []):\n",
    "        pop = {'Artibonite':1727524,\n",
    "        'Centre':746236,\n",
    "        'Grande_Anse':468301,\n",
    "        'Nippes':342525,\n",
    "        'Nord':1067177,\n",
    "        'Nord-Est':393967,\n",
    "        'Nord-Ouest':728807,\n",
    "        'Ouest':4029705,\n",
    "        'Sud':774976,\n",
    "        'Sud-Est':632601}\n",
    "        ocv_order = ['Centre', 'Artibonite','Ouest','Nord-Ouest','Nord','Sud', 'Nippes','Nord-Est', 'Sud-Est','Grande_Anse']\n",
    "        self.t_vacc_start = {}\n",
    "        self.t_vacc_end = {}\n",
    "        self.p1d_reg = {}\n",
    "        self.r_v_year = {}\n",
    "        self.ve = ve\n",
    "        self.not_dep = not_dep\n",
    "\n",
    "        #20% completely unvaccinated, 10% one-dose only, 70% two doses\n",
    "        t_init = datetime.date(2019,1,12)\n",
    "        days_per_departement = int((course_year*365)/len(ocv_order))\n",
    "\n",
    "        for i, dp in enumerate(ocv_order):\n",
    "            if dp not in not_dep:\n",
    "                self.t_vacc_start[dp] = t_init + datetime.timedelta(days=i*days_per_departement)\n",
    "                self.t_vacc_end[dp] = t_init + datetime.timedelta(days=(i+1)*days_per_departement)\n",
    "                self.p1d_reg[dp] = percent_onedose/(percent_onedose + percent_twodoses)\n",
    "                self.r_v_year[dp] = pop[dp]*(100-percent_completely_unvaccinated)/100/days_per_departement * 365.25\n",
    "\n",
    "            else:\n",
    "                self.t_vacc_start[dp] = t_init + datetime.timedelta(days=i*days_per_departement)\n",
    "                self.t_vacc_end[dp] = t_init + datetime.timedelta(days=(i+1)*days_per_departement)\n",
    "                self.p1d_reg[dp] = 0\n",
    "                self.r_v_year[dp] =0\n",
    "def run_sim(dp):\n",
    "    # see second answer of https://stackoverflow.com/questions/25175530/can-rpy2-code-be-run-in-parallel on why it starts different \n",
    "    # R instances\n",
    "    r_source = robjects.r['source'];\n",
    "    dept_data = {}\n",
    "    r_options = robjects.r['options']\n",
    "    r_options(warn=-1)\n",
    "    robjects.r('departement  <- \"' + dp + '\"')\n",
    "    robjects.r('output_dir   <- \"' + output_dir + '\"')\n",
    "    robjects.r('scenario     <- \"' + scenario_str + '\"')\n",
    "    robjects.r('run_level    <- '  + str(run_lvl))\n",
    "    robjects.r('nsim         <- '  + str(nsim))\n",
    "    robjects.r('t_vacc_start <- \"' + str(scenario.t_vacc_start[dp]) + '\"')\n",
    "    robjects.r('t_vacc_end   <- \"' + str(scenario.t_vacc_end[dp]) + '\"')\n",
    "    robjects.r('p1d_reg      <- '  + str(scenario.p1d_reg[dp]))\n",
    "    robjects.r('r_v_year     <- '  + str(scenario.r_v_year[dp]))\n",
    "    robjects.r('cases_ext    <- '  + str(scenario.ve))\n",
    "    r_source('/Users/chadi/Documents/phd/haiti-ocv-pomp/scripts/forecast_haitiOCV_mob.R')\n",
    "    for comp in compartments:\n",
    "        #temp = pandas2ri.ri2py(robjects.r[comp])\n",
    "        temp = robjects.r[comp]\n",
    "        temp.index = index\n",
    "        temp.drop('date',axis=1, inplace = True)\n",
    "        dept_data[comp] = temp\n",
    "    return (dp, dept_data, robjects.r['params'], robjects.r('names(params)'))\n",
    "\n",
    "def save_result(to_save, scenario_str, folder_name = ''):\n",
    "    csv_all_q50 =  pd.DataFrame(0, index = pd.DatetimeIndex(start =  t_start, \n",
    "                                      end = t_for, freq = 'W-SAT'), columns = dept_name)\n",
    "\n",
    "    csv_all_q05 =  pd.DataFrame(0, index = pd.DatetimeIndex(start =  t_start, \n",
    "                                      end = t_for, freq = 'W-SAT'), columns = dept_name)\n",
    "\n",
    "    csv_all_q95 =  pd.DataFrame(0, index = pd.DatetimeIndex(start =  t_start, \n",
    "                                      end = t_for, freq = 'W-SAT'), columns = dept_name)\n",
    "\n",
    "\n",
    "    for dp in dept_avail:\n",
    "        csv_all_q50[dp] = to_save[dp]['cases']['q50']\n",
    "        csv_all_q95[dp] = to_save[dp]['cases']['q95']\n",
    "        csv_all_q05[dp] = to_save[dp]['cases']['q05']\n",
    "        \n",
    "    csv_all_q05.to_csv(folder_name + scenario_str + '_q05.csv', index_label='date')\n",
    "    csv_all_q95.to_csv(folder_name + scenario_str + '_q95.csv', index_label='date')\n",
    "    csv_all_q50.to_csv(folder_name + scenario_str + '_q50.csv', index_label='date')\n",
    "    pd.concat([csv_all_q05.sum(axis=1), csv_all_q50.sum(axis=1), csv_all_q95.sum(axis=1)], \n",
    "              axis = 1, keys = ['q05', 'q50', 'q95']).to_csv(folder_name + scenario_str + '_national.csv', index_label='date')\n",
    "\n",
    "    for dp in dept_avail:\n",
    "        csv_all_q50[dp] = to_save[dp]['C']['q50']\n",
    "        csv_all_q95[dp] = to_save[dp]['C']['q95']\n",
    "        csv_all_q05[dp] = to_save[dp]['C']['q05']\n",
    "        \n",
    "    csv_all_q05.to_csv(folder_name + scenario_str + '_q05_s.csv', index_label='date')\n",
    "    csv_all_q95.to_csv(folder_name + scenario_str + '_q95_s.csv', index_label='date')\n",
    "    csv_all_q50.to_csv(folder_name + scenario_str + '_q50_s.csv', index_label='date')\n",
    "    pd.concat([csv_all_q05.sum(axis=1), csv_all_q50.sum(axis=1), csv_all_q95.sum(axis=1)], \n",
    "              axis = 1, keys = ['q05', 'q50', 'q95']).to_csv(scenario_str + '_national_s.csv', index_label='date')\n",
    "\n",
    "\n",
    "\n",
    "nsim = 50\n",
    "run_lvl = 3\n",
    "n_proc = 5"
   ]
  },
  {
   "cell_type": "markdown",
   "metadata": {},
   "source": [
    "#### Forecasting with no vaccination"
   ]
  },
  {
   "cell_type": "code",
   "execution_count": null,
   "metadata": {},
   "outputs": [],
   "source": [
    "all_data = {}\n",
    "pars_dic = {}\n",
    "\n",
    "scenario = S0\n",
    "scenario_str = 'S0'\n",
    "make_genuine_mobility_file()\n",
    "with mp.Pool(processes=n_proc) as pool:\n",
    "    for dp, dept_data, params, params_name in pool.imap_unordered(run_sim, dept_avail):\n",
    "        all_data[dp] = dept_data\n",
    "        pars_dic[dp] = params\n",
    "        params_name = params_name"
   ]
  },
  {
   "cell_type": "markdown",
   "metadata": {},
   "source": [
    "### Extracting best performing parameters"
   ]
  },
  {
   "cell_type": "code",
   "execution_count": null,
   "metadata": {},
   "outputs": [],
   "source": [
    "all_params = pd.DataFrame(0, columns = params_name, index= dept_avail)\n",
    "for key, value in pars_dic.items():\n",
    "    all_params.loc[key] = value        \n",
    "        \n",
    "# Convert years in mean duration of days day\n",
    "rates = [ \"gammaI\", \"gammaA\", \"rhoA\", 'rhoI', 'mu_B']\n",
    "params_disp = all_params.copy()\n",
    "params_disp.loc[:,'rhoI'] = params_disp.loc[:,'XrhoI'] * params_disp.loc[:,'rhoA']\n",
    "params_disp.loc[:,'thetaA'] = params_disp.loc[:,'XthetaA'] * params_disp.loc[:,'thetaI']\n",
    "params_disp.drop(['mu', 'alpha', 'XrhoI', 'XthetaA', 't_vacc_start', 't_vacc_end', 'p1d_reg', 'r_v_year', 'H', 'D', 'Rtot_0'], axis =1, inplace = True)\n",
    "for p in rates:\n",
    "    params_disp.loc[:,p] =  1/(params_disp.loc[:,p]/365.25);\n",
    "    \n",
    "params_disp = params_disp.reindex(columns=sorted(params_disp.columns));\n",
    "params_disp"
   ]
  },
  {
   "cell_type": "code",
   "execution_count": null,
   "metadata": {},
   "outputs": [],
   "source": [
    "all_data['Ouest']['cases'][:datetime.date(2015,7,1)] = np.nan"
   ]
  },
  {
   "cell_type": "code",
   "execution_count": null,
   "metadata": {},
   "outputs": [],
   "source": [
    "# ti = input_parameters['t_start']\n",
    "tf = input_parameters['t_end']\n",
    "tf = t_for\n",
    "\n",
    "fig, axes = plt.subplots((len(dept_avail))//2, 2, figsize=(15,15), squeeze = True, dpi = 200);\n",
    "fig.patch.set_facecolor('white')\n",
    "axes = axes.flatten();\n",
    "for i, dp in enumerate(dept_avail):\n",
    "\n",
    "    axt =  axes[i].twinx()\n",
    "    axes[i].plot(cases[dp][t_start:][ti:tf], marker='.', linestyle='-',color='k', linewidth=1, markersize=1 ) \n",
    "    axes[i].fill_between(all_data[dp]['cases']['q05'][ti:tf].index, all_data[dp]['cases']['q05'][ti:tf], all_data[dp]['cases']['q95'][ti:tf], alpha = .5, color = 'red', linewidth = 0)\n",
    "    axes[i].plot(all_data[dp]['cases']['q50'][ti:tf], alpha = 1,linestyle='-', linewidth = 1, color = 'darkblue')\n",
    "    axt.bar(pd.date_range(ti,tf, freq='W-SAT').date, rain[dp].resample('W-SAT').sum()[ti:tf], label = r'Rainfall', color = 'darkblue', width=7, alpha = 1)\n",
    "\n",
    "    axes[i].set_title(dp)\n",
    "    axes[i].set_ylim(0)\n",
    "    axt.set_ylim(4*max(rain[dp].resample('W-SAT').sum()[t_start:t_for]),0) # check if only reverse y\n",
    "    axes[i].set_xlim(ti, tf)\n",
    "    #axes[i].legend()\n",
    "\n",
    "fig.autofmt_xdate()\n",
    "fig.tight_layout()\n"
   ]
  },
  {
   "cell_type": "code",
   "execution_count": null,
   "metadata": {},
   "outputs": [],
   "source": []
  },
  {
   "cell_type": "markdown",
   "metadata": {},
   "source": [
    "### Repartition in the differents compartiments for one departement "
   ]
  },
  {
   "cell_type": "code",
   "execution_count": null,
   "metadata": {},
   "outputs": [],
   "source": [
    "dp = 'Grande_Anse'\n",
    "ti = input_parameters['t_start']\n",
    "tf = input_parameters['t_end']\n",
    "tf = t_for\n",
    "fig, axes = plt.subplots((len(compartments))//5, 6, figsize=(20,15), squeeze = True);\n",
    "axes = axes.flatten();\n",
    "for i, comp in enumerate(compartments):\n",
    "    axes[i].fill_between(all_data[dp][comp]['q05'][ti:tf].index, all_data[dp][comp]['q05'][ti:tf], all_data[dp][comp]['q95'][ti:tf], alpha = .5, color = 'red', linewidth = 0)\n",
    "    axes[i].plot(all_data[dp][comp]['mean'][ti:tf], linewidth=1, alpha = 1,linestyle='-.', color = 'black')\n",
    "    axes[i].plot(all_data[dp][comp]['q50'][ti:tf], alpha = 1,linestyle='-', linewidth = 1, color = 'blue') \n",
    "    axes[i].set_title(comp)\n",
    "    #axes[i].legend()\n",
    "    #axes[i].set_ylim(0)\n",
    "    \n",
    "fig.tight_layout()"
   ]
  },
  {
   "cell_type": "markdown",
   "metadata": {},
   "source": [
    "#### Vaccination scenario"
   ]
  },
  {
   "cell_type": "code",
   "execution_count": null,
   "metadata": {},
   "outputs": [],
   "source": [
    "scenario = S25\n",
    "scenario_str = 'S25'"
   ]
  },
  {
   "cell_type": "markdown",
   "metadata": {},
   "source": [
    "### Vaccination without mobility to build the mobility file"
   ]
  },
  {
   "cell_type": "code",
   "execution_count": null,
   "metadata": {},
   "outputs": [],
   "source": [
    "all_data_vacc = {}\n",
    "\n",
    "make_genuine_mobility_file()\n",
    "with mp.Pool(processes=n_proc) as pool:\n",
    "    for dp, dept_data, _, _ in pool.imap_unordered(run_sim, dept_avail):\n",
    "        all_data_vacc[dp] = dept_data"
   ]
  },
  {
   "cell_type": "code",
   "execution_count": null,
   "metadata": {},
   "outputs": [],
   "source": [
    "ti = input_parameters['t_start']\n",
    "#ti = input_parameters['t_end']\n",
    "tf = t_for\n",
    "\n",
    "fig, axes = plt.subplots((len(all_data))//2, 2, figsize=(15,5), squeeze = True, dpi = 200);\n",
    "axes = axes.flatten();\n",
    "fig.patch.set_facecolor('white')\n",
    "\n",
    "for i, dp in enumerate(dept_avail):\n",
    "    axt =  axes[i].twinx()\n",
    "    axes[i].plot(cases[dp][ti:tf], marker='.', linestyle='-',color='k', linewidth=0, markersize=1 ) \n",
    "    \n",
    "    axes[i].fill_between(all_data_vacc[dp]['cases']['q05'][ti:tf].index, all_data_vacc[dp]['cases']['q05'][ti:tf], all_data_vacc[dp]['cases']['q95'][ti:tf], alpha = .5, color = 'red', linewidth = 0)\n",
    "    axes[i].plot(all_data_vacc[dp]['cases']['q50'][ti:tf], alpha = 1,linestyle='-', linewidth = 1, color = 'darkblue')\n",
    "    axt.bar(pd.date_range(t_start,t_for, freq='W-SAT').date, rain[dp].resample('W-SAT').sum()[t_start:t_for], \n",
    "                label = r'Rainfall', color = 'darkblue', width=7, alpha = 1)\n",
    "\n",
    "    axes[i].set_title(dp)\n",
    "    axes[i].set_ylim(0)\n",
    "    axt.set_ylim(2*max(rain[dp].resample('W-SAT').sum()[t_start:t_for]),0) # check if only reverse y\n",
    "    axes[i].set_xlim(ti, tf)    \n",
    "    # convert to matplotlib date representation\n",
    "    start = mdates.date2num(scenario.t_vacc_start[dp])\n",
    "    end = mdates.date2num(scenario.t_vacc_end[dp])\n",
    "    width = end - start\n",
    "    rect = Rectangle((start, 0), width, 100+max(all_data_vacc[dp]['cases']['q95']), color='orange', alpha= 0.1)\n",
    "    axes[i].add_patch(rect) \n",
    "    axes[i].add_artist(rect)\n",
    "    rx, ry = rect.get_xy()\n",
    "    cx = rx + rect.get_width()/2.0\n",
    "    cy = ry + rect.get_height()/1.5\n",
    "    #axes[i].annotate(r'Vaccination', (cx, cy), color='black',# weight='bold', \n",
    "    #            fontsize=12, ha='center', va='center', rotation='vertical')\n",
    "\n",
    "fig.tight_layout()"
   ]
  },
  {
   "cell_type": "code",
   "execution_count": null,
   "metadata": {},
   "outputs": [],
   "source": []
  },
  {
   "cell_type": "markdown",
   "metadata": {},
   "source": [
    "#### Take away mobility to make a mobility file"
   ]
  },
  {
   "cell_type": "code",
   "execution_count": null,
   "metadata": {},
   "outputs": [],
   "source": [
    "vacc_init = pd.DataFrame(np.nan, pd.DatetimeIndex(start =  datetime.date(2010,10,23), \n",
    "                                      end = t_for, freq = 'W-SAT'), columns = dept_name)\n",
    "\n",
    "cases_df =  pd.DataFrame(np.nan, index = pd.DatetimeIndex(start =  t_start, \n",
    "                                      end = t_for, freq = 'W-SAT'), columns = dept_name)\n",
    "\n",
    "covar_mob_novacc = make_genuine_mobility_file()\n",
    "\n",
    "for dp in dept_avail:\n",
    "    cases_df[dp] = all_data_vacc[dp]['cases']['q50'][scenario.t_vacc_start[dp]+datetime.timedelta(days = 90) : scenario.t_vacc_start[dp] + datetime.timedelta(days = 200)]\n",
    "\n",
    "for dp in dept_name:\n",
    "    if dp in dept_avail:\n",
    "        vacc_init[dp] = covar_mob_novacc[dp][datetime.date(2010,10,23):scenario.t_vacc_start[dp]]   # \n",
    "        vacc_init[dp].fillna(cases_df[dp].mean(), inplace = True)\n",
    "        print(dp, cases_df[dp].mean())\n",
    "    else:\n",
    "        vacc_init[dp] = covar_mob_novacc[dp]  #0\n",
    "    \n",
    "vacc_init.to_csv('vacc_init' + scenario_str +  '.csv', index_label='date')"
   ]
  },
  {
   "cell_type": "code",
   "execution_count": null,
   "metadata": {},
   "outputs": [],
   "source": [
    "fig, axes = plt.subplots((len(all_data))//2+1, 2, figsize=(15,5), squeeze = True);\n",
    "axes = axes.flatten();\n",
    "fig.patch.set_facecolor('white')\n",
    "\n",
    "for i, dp in enumerate(dept_avail):\n",
    "    axes[i].plot(vacc_init[dp], alpha = 5,linestyle='-', linewidth = 1, color = 'darkblue')\n",
    "    #axes[i].plot(covar_init[dp], alpha = 1,linestyle='-', linewidth = 1, color = 'red')\n",
    "    axes[i].set_title(dp)\n",
    "    axes[i].set_ylim(0,100)\n",
    "    axes[i].set_xlim(t_start, t_for)\n",
    "\n",
    "fig.tight_layout()"
   ]
  },
  {
   "cell_type": "markdown",
   "metadata": {},
   "source": [
    "### Projection with mobility"
   ]
  },
  {
   "cell_type": "code",
   "execution_count": null,
   "metadata": {},
   "outputs": [],
   "source": [
    "vacc_init = pd.read_csv('vacc_init' + scenario_str +  '.csv', index_col = 0, parse_dates = True)\n",
    "vacc_init.to_csv('covar_mob.csv', index_label='date')\n",
    "\n",
    "all_data_vacc_mob = {}\n",
    "\n",
    "with mp.Pool(processes=n_proc) as pool:\n",
    "    for dp, dept_data, _, _ in pool.imap_unordered(run_sim, dept_avail):\n",
    "        all_data_vacc_mob[dp] = dept_data"
   ]
  },
  {
   "cell_type": "code",
   "execution_count": null,
   "metadata": {},
   "outputs": [],
   "source": [
    "ti = input_parameters['t_start']\n",
    "#ti = input_parameters['t_end']\n",
    "tf = t_for\n",
    "\n",
    "fig, axes = plt.subplots((len(all_data))//2, 2, figsize=(15,15), squeeze = True, dpi = 200);\n",
    "axes = axes.flatten();\n",
    "fig.patch.set_facecolor('white')\n",
    "\n",
    "for i, dp in enumerate(dept_avail):\n",
    "    axt =  axes[i].twinx()\n",
    "    axes[i].plot(cases[dp][ti:tf], marker='.', linestyle='-',color='k', linewidth=0, markersize=1 ) \n",
    "    axes[i].fill_between(all_data_vacc_mob[dp]['cases']['q05'][ti:tf].index, all_data_vacc_mob[dp]['cases']['q05'][ti:tf], all_data_vacc_mob[dp]['cases']['q95'][ti:tf], alpha = .5, color = 'red', linewidth = 0)\n",
    "    axes[i].plot(all_data_vacc_mob[dp]['cases']['q50'][ti:tf], alpha = 1,linestyle='-', linewidth = 1, color = 'darkblue')\n",
    "    axt.bar(pd.date_range(t_start,t_for, freq='W-SAT').date, rain[dp].resample('W-SAT').sum()[t_start:t_for], \n",
    "                label = r'Rainfall', color = 'darkblue', width=7, alpha = 1)\n",
    "    \n",
    "    axes[i].set_title(dp)\n",
    "    axes[i].set_ylim(0)\n",
    "    axt.set_ylim(2*max(rain[dp].resample('W-SAT').sum()[t_start:t_for]),0) # check if only reverse y\n",
    "    axes[i].set_xlim(ti, tf)\n",
    "    if dp not in scenario.not_dep:\n",
    "        # convert to matplotlib date representation\n",
    "        start = mdates.date2num(scenario.t_vacc_start[dp])\n",
    "        end = mdates.date2num(scenario.t_vacc_end[dp])\n",
    "        width = end - start\n",
    "        rect = Rectangle((start, 0), width, 1000+max(all_data_vacc[dp]['cases']['q95']), color='orange', alpha= 0.1)\n",
    "        axes[i].add_patch(rect) \n",
    "        axes[i].add_artist(rect)\n",
    "        rx, ry = rect.get_xy()\n",
    "        cx = rx + rect.get_width()/2.0\n",
    "        cy = ry + rect.get_height()/1.5\n",
    "\n",
    "fig.tight_layout()"
   ]
  },
  {
   "cell_type": "markdown",
   "metadata": {},
   "source": [
    "#### Comparison"
   ]
  },
  {
   "cell_type": "code",
   "execution_count": null,
   "metadata": {},
   "outputs": [],
   "source": [
    "ti = input_parameters['t_start']\n",
    "#ti = input_parameters['t_end']\n",
    "tf = t_for\n",
    "\n",
    "fig, axes = plt.subplots((len(all_data))//2, 2, figsize=(15,15), squeeze = True, dpi = 200);\n",
    "axes = axes.flatten();\n",
    "fig.patch.set_facecolor('white')\n",
    "\n",
    "for i, dp in enumerate(dept_avail):\n",
    "    axt =  axes[i].twinx()\n",
    "    axes[i].plot(cases[dp][ti:tf], marker='.', linestyle='-',color='k', linewidth=0, markersize=1 )\n",
    "    \n",
    "    axes[i].plot(all_data[dp]['cases']['q50'][ti:tf],          alpha = 1, linestyle='-', linewidth = 1, color = 'darkblue')\n",
    "    axes[i].plot(all_data_vacc[dp]['cases']['q50'][ti:tf],     alpha = 1, linestyle='-', linewidth = 4, color = 'green')\n",
    "    axes[i].plot(all_data_vacc_mob[dp]['cases']['q50'][ti:tf], alpha = 1, linestyle='-', linewidth = 2, color = 'red')\n",
    "    \n",
    "    axt.bar(pd.date_range(t_start,t_for, freq='W-SAT').date, rain[dp].resample('W-SAT').sum()[t_start:t_for], \n",
    "                label = r'Rainfall', color = 'darkblue', width=7, alpha = 1)\n",
    "\n",
    "    axes[i].set_title(dp)\n",
    "    axes[i].set_ylim(0)\n",
    "    axt.set_ylim(2*max(rain[dp].resample('W-SAT').sum()[t_start:t_for]),0) # check if only reverse y\n",
    "    axes[i].set_xlim(ti, tf)    \n",
    "    # convert to matplotlib date representation\n",
    "    start = mdates.date2num(scenario.t_vacc_start[dp])\n",
    "    end = mdates.date2num(scenario.t_vacc_end[dp])\n",
    "    width = end - start\n",
    "    rect = Rectangle((start, 0), width, 100+max(all_data_vacc[dp]['cases']['q95']), color='orange', alpha= 0.1)\n",
    "    axes[i].add_patch(rect) \n",
    "    axes[i].add_artist(rect)\n",
    "    rx, ry = rect.get_xy()\n",
    "    cx = rx + rect.get_width()/2.0\n",
    "    cy = ry + rect.get_height()/1.5\n",
    "\n",
    "fig.tight_layout()"
   ]
  },
  {
   "cell_type": "markdown",
   "metadata": {},
   "source": [
    "## Nationwide plot"
   ]
  },
  {
   "cell_type": "code",
   "execution_count": null,
   "metadata": {},
   "outputs": [],
   "source": [
    "to_plot = all_data\n",
    "plot_all_q50 =  pd.DataFrame(0, index = pd.DatetimeIndex(start =  t_start, \n",
    "                                      end = t_for, freq = 'W-SAT'), columns = dept_name)\n",
    "\n",
    "plot_all_q05 =  pd.DataFrame(0, index = pd.DatetimeIndex(start =  t_start, \n",
    "                                      end = t_for, freq = 'W-SAT'), columns = dept_name)\n",
    "\n",
    "plot_all_q95 =  pd.DataFrame(0, index = pd.DatetimeIndex(start =  t_start, \n",
    "                                      end = t_for, freq = 'W-SAT'), columns = dept_name)\n",
    "\n",
    "for dp in dept_avail:\n",
    "            plot_all_q50[dp] = to_plot[dp]['cases']['q50']\n",
    "            plot_all_q95[dp] = to_plot[dp]['cases']['q95']\n",
    "            plot_all_q05[dp] = to_plot[dp]['cases']['q05']\n",
    "\n",
    "plot_all = pd.concat([plot_all_q05.sum(axis=1), plot_all_q50.sum(axis=1), plot_all_q95.sum(axis=1)], axis = 1, keys = ['q05', 'q50', 'q95'])\n",
    "\n",
    "\n",
    "ti = input_parameters['t_start']\n",
    "ti = datetime.date(2015,7,1)\n",
    "tf = input_parameters['t_end']\n",
    "#tf = t_for\n",
    "\n",
    "fig, axes = plt.subplots(1, 1, figsize=(15,8), squeeze = True, dpi = 200);\n",
    "fig.patch.set_facecolor('white')\n",
    "axt =  axes.twinx()\n",
    "axes.plot(cases.sum(axis=1)[t_start:][ti:tf], marker='.', linestyle='-',color='k', linewidth=1, markersize=1 ) \n",
    "axes.fill_between(plot_all['q05'][ti:tf].index, plot_all['q05'][ti:tf], plot_all['q95'][ti:tf], alpha = .5, color = 'red', linewidth = 0)\n",
    "axes.plot(plot_all['q50'][ti:tf], alpha = 1,linestyle='-', linewidth = 1, color = 'darkblue')\n",
    "axt.bar(pd.date_range(ti,tf, freq='W-SAT').date, rain[dp].resample('W-SAT').sum()[ti:tf], label = r'Rainfall', color = 'darkblue', width=7, alpha = 1)\n",
    "\n",
    "axes.set_ylim(0)\n",
    "axt.set_ylim(4*max(rain[dp].resample('W-SAT').sum()[t_start:t_for]),0) # check if only reverse y\n",
    "axes.set_xlim(ti, tf)\n",
    "    \n",
    "#fig.tight_layout()"
   ]
  },
  {
   "cell_type": "code",
   "execution_count": null,
   "metadata": {},
   "outputs": [],
   "source": []
  },
  {
   "cell_type": "markdown",
   "metadata": {},
   "source": [
    "### Save results !"
   ]
  },
  {
   "cell_type": "code",
   "execution_count": 284,
   "metadata": {},
   "outputs": [
    {
     "name": "stderr",
     "output_type": "stream",
     "text": [
      "/usr/local/lib/python3.7/site-packages/ipykernel_launcher.py:8: FutureWarning: Creating a DatetimeIndex by passing range endpoints is deprecated.  Use `pandas.date_range` instead.\n",
      "  \n",
      "/usr/local/lib/python3.7/site-packages/ipykernel_launcher.py:11: FutureWarning: Creating a DatetimeIndex by passing range endpoints is deprecated.  Use `pandas.date_range` instead.\n",
      "  # This is added back by InteractiveShellApp.init_path()\n",
      "/usr/local/lib/python3.7/site-packages/ipykernel_launcher.py:14: FutureWarning: Creating a DatetimeIndex by passing range endpoints is deprecated.  Use `pandas.date_range` instead.\n",
      "  \n"
     ]
    }
   ],
   "source": [
    "to_save = all_data#_vacc_mob\n",
    "#scenario_str = 'S0'\n",
    "save_result(all_data, scenario_str)"
   ]
  },
  {
   "cell_type": "markdown",
   "metadata": {},
   "source": [
    "# MISC"
   ]
  },
  {
   "cell_type": "code",
   "execution_count": null,
   "metadata": {},
   "outputs": [],
   "source": [
    "all_data['Artibonite']['B']"
   ]
  },
  {
   "cell_type": "code",
   "execution_count": null,
   "metadata": {},
   "outputs": [],
   "source": []
  },
  {
   "cell_type": "code",
   "execution_count": null,
   "metadata": {},
   "outputs": [],
   "source": []
  },
  {
   "cell_type": "code",
   "execution_count": null,
   "metadata": {},
   "outputs": [],
   "source": []
  },
  {
   "cell_type": "code",
   "execution_count": null,
   "metadata": {},
   "outputs": [],
   "source": []
  }
 ],
 "metadata": {
  "kernelspec": {
   "display_name": "Python 3",
   "language": "python",
   "name": "python3"
  },
  "language_info": {
   "codemirror_mode": {
    "name": "ipython",
    "version": 3
   },
   "file_extension": ".py",
   "mimetype": "text/x-python",
   "name": "python",
   "nbconvert_exporter": "python",
   "pygments_lexer": "ipython3",
   "version": "3.7.3"
  }
 },
 "nbformat": 4,
 "nbformat_minor": 2
}
